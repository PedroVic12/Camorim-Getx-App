{
 "cells": [
  {
   "cell_type": "code",
   "execution_count": 3,
   "metadata": {},
   "outputs": [
    {
     "data": {
      "text/html": [
       "<div>\n",
       "<style scoped>\n",
       "    .dataframe tbody tr th:only-of-type {\n",
       "        vertical-align: middle;\n",
       "    }\n",
       "\n",
       "    .dataframe tbody tr th {\n",
       "        vertical-align: top;\n",
       "    }\n",
       "\n",
       "    .dataframe thead th {\n",
       "        text-align: right;\n",
       "    }\n",
       "</style>\n",
       "<table border=\"1\" class=\"dataframe\">\n",
       "  <thead>\n",
       "    <tr style=\"text-align: right;\">\n",
       "      <th></th>\n",
       "      <th>DATA</th>\n",
       "      <th>LOCAL</th>\n",
       "      <th>PRODUTOS</th>\n",
       "      <th>CATEGORIA</th>\n",
       "      <th>TOTAL</th>\n",
       "    </tr>\n",
       "  </thead>\n",
       "  <tbody>\n",
       "    <tr>\n",
       "      <th>0</th>\n",
       "      <td>2023-10-09</td>\n",
       "      <td>CEP 08.900-000</td>\n",
       "      <td>GASOLINA COMUM</td>\n",
       "      <td>Combustivel</td>\n",
       "      <td>108.34</td>\n",
       "    </tr>\n",
       "    <tr>\n",
       "      <th>1</th>\n",
       "      <td>2023-12-03</td>\n",
       "      <td>Av Jane Maria Martins Figueiredo - 301, 301, J...</td>\n",
       "      <td>2x Café c/ Leite - R$ 6\\n1x Pao na chapa  - R$...</td>\n",
       "      <td>Consumo</td>\n",
       "      <td>32.68</td>\n",
       "    </tr>\n",
       "    <tr>\n",
       "      <th>2</th>\n",
       "      <td>2023-12-06</td>\n",
       "      <td>Parque Pauliceia, Duque de Caxias - RJ, 25020-001</td>\n",
       "      <td>refeicao</td>\n",
       "      <td>Vale refeicao</td>\n",
       "      <td>81.00</td>\n",
       "    </tr>\n",
       "  </tbody>\n",
       "</table>\n",
       "</div>"
      ],
      "text/plain": [
       "        DATA                                              LOCAL  \\\n",
       "0 2023-10-09                                     CEP 08.900-000   \n",
       "1 2023-12-03  Av Jane Maria Martins Figueiredo - 301, 301, J...   \n",
       "2 2023-12-06  Parque Pauliceia, Duque de Caxias - RJ, 25020-001   \n",
       "\n",
       "                                            PRODUTOS      CATEGORIA   TOTAL  \n",
       "0                                     GASOLINA COMUM    Combustivel  108.34  \n",
       "1  2x Café c/ Leite - R$ 6\\n1x Pao na chapa  - R$...        Consumo   32.68  \n",
       "2                                           refeicao  Vale refeicao   81.00  "
      ]
     },
     "metadata": {},
     "output_type": "display_data"
    }
   ],
   "source": [
    "import pandas as pd\n",
    "caminho_Df = \"../repository/Nota_fiscal_OCR_template.xlsx\"\n",
    "df = pd.read_excel(caminho_Df)\n",
    "display(df)\n",
    "\n",
    "df.to_json(\n",
    "    \"../repository/Nota_fiscal_OCR_template.json\",\n",
    "    orient=\"records\",\n",
    ")"
   ]
  }
 ],
 "metadata": {
  "kernelspec": {
   "display_name": "Python 3",
   "language": "python",
   "name": "python3"
  },
  "language_info": {
   "codemirror_mode": {
    "name": "ipython",
    "version": 3
   },
   "file_extension": ".py",
   "mimetype": "text/x-python",
   "name": "python",
   "nbconvert_exporter": "python",
   "pygments_lexer": "ipython3",
   "version": "3.11.6"
  }
 },
 "nbformat": 4,
 "nbformat_minor": 2
}
